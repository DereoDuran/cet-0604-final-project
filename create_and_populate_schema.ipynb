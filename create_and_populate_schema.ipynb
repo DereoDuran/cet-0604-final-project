{
 "cells": [
  {
   "cell_type": "code",
   "execution_count": 17,
   "metadata": {},
   "outputs": [],
   "source": [
    "import pandas as pd\n",
    "import holidays"
   ]
  },
  {
   "cell_type": "code",
   "execution_count": 18,
   "metadata": {},
   "outputs": [],
   "source": [
    "# create a date dimension table and populate it 20 years ago to today\n",
    "date_dim_columns = ['date', 'year', 'month', 'day', 'weekday', 'day_of_year', 'is_holiday', 'is_weekend']\n",
    "date_dim_df = pd.DataFrame(columns=date_dim_columns)\n",
    "date_dim_df['date'] = pd.date_range(start='20020101', end='20221231')\n",
    "date_dim_df['year'] = date_dim_df['date'].dt.year\n",
    "date_dim_df['month'] = date_dim_df['date'].dt.month\n",
    "date_dim_df['day'] = date_dim_df['date'].dt.day\n",
    "date_dim_df['weekday'] = date_dim_df['date'].dt.weekday\n",
    "date_dim_df['day_of_year'] = date_dim_df['date'].dt.dayofyear\n",
    "date_dim_df['is_holiday'] = date_dim_df['date'].apply(lambda x: x in holidays.BR(state='SP', years=x.year))\n",
    "date_dim_df['is_weekend'] = date_dim_df['date'].dt.weekday.isin([5, 6])\n",
    "date_dim_df.to_csv('date_dim.csv', index=False)"
   ]
  },
  {
   "cell_type": "code",
   "execution_count": null,
   "metadata": {},
   "outputs": [],
   "source": []
  }
 ],
 "metadata": {
  "interpreter": {
   "hash": "767d51c1340bd893661ea55ea3124f6de3c7a262a8b4abca0554b478b1e2ff90"
  },
  "kernelspec": {
   "display_name": "Python 3.10.4 64-bit",
   "language": "python",
   "name": "python3"
  },
  "language_info": {
   "codemirror_mode": {
    "name": "ipython",
    "version": 3
   },
   "file_extension": ".py",
   "mimetype": "text/x-python",
   "name": "python",
   "nbconvert_exporter": "python",
   "pygments_lexer": "ipython3",
   "version": "3.10.4"
  },
  "orig_nbformat": 4
 },
 "nbformat": 4,
 "nbformat_minor": 2
}
