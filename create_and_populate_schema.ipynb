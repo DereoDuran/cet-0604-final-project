{
 "cells": [
  {
   "cell_type": "code",
   "execution_count": 12,
   "metadata": {},
   "outputs": [
    {
     "data": {
      "text/plain": [
       "True"
      ]
     },
     "execution_count": 12,
     "metadata": {},
     "output_type": "execute_result"
    }
   ],
   "source": [
    "import pandas as pd\n",
    "import holidays\n",
    "import mysql.connector\n",
    "import os\n",
    "from faker import Faker\n",
    "from dotenv import load_dotenv\n",
    "load_dotenv()"
   ]
  },
  {
   "cell_type": "code",
   "execution_count": 13,
   "metadata": {},
   "outputs": [],
   "source": [
    "fake = Faker('pt_BR')\n",
    "Faker.seed(1607)"
   ]
  },
  {
   "cell_type": "code",
   "execution_count": 20,
   "metadata": {},
   "outputs": [
    {
     "data": {
      "text/html": [
       "<div>\n",
       "<style scoped>\n",
       "    .dataframe tbody tr th:only-of-type {\n",
       "        vertical-align: middle;\n",
       "    }\n",
       "\n",
       "    .dataframe tbody tr th {\n",
       "        vertical-align: top;\n",
       "    }\n",
       "\n",
       "    .dataframe thead th {\n",
       "        text-align: right;\n",
       "    }\n",
       "</style>\n",
       "<table border=\"1\" class=\"dataframe\">\n",
       "  <thead>\n",
       "    <tr style=\"text-align: right;\">\n",
       "      <th></th>\n",
       "      <th>date</th>\n",
       "      <th>year</th>\n",
       "      <th>month</th>\n",
       "      <th>day</th>\n",
       "      <th>weekday</th>\n",
       "      <th>day_of_year</th>\n",
       "      <th>is_holiday</th>\n",
       "      <th>is_weekend</th>\n",
       "    </tr>\n",
       "  </thead>\n",
       "  <tbody>\n",
       "    <tr>\n",
       "      <th>0</th>\n",
       "      <td>2002-01-01</td>\n",
       "      <td>2002</td>\n",
       "      <td>1</td>\n",
       "      <td>1</td>\n",
       "      <td>1</td>\n",
       "      <td>1</td>\n",
       "      <td>True</td>\n",
       "      <td>False</td>\n",
       "    </tr>\n",
       "    <tr>\n",
       "      <th>1</th>\n",
       "      <td>2002-01-02</td>\n",
       "      <td>2002</td>\n",
       "      <td>1</td>\n",
       "      <td>2</td>\n",
       "      <td>2</td>\n",
       "      <td>2</td>\n",
       "      <td>False</td>\n",
       "      <td>False</td>\n",
       "    </tr>\n",
       "    <tr>\n",
       "      <th>2</th>\n",
       "      <td>2002-01-03</td>\n",
       "      <td>2002</td>\n",
       "      <td>1</td>\n",
       "      <td>3</td>\n",
       "      <td>3</td>\n",
       "      <td>3</td>\n",
       "      <td>False</td>\n",
       "      <td>False</td>\n",
       "    </tr>\n",
       "    <tr>\n",
       "      <th>3</th>\n",
       "      <td>2002-01-04</td>\n",
       "      <td>2002</td>\n",
       "      <td>1</td>\n",
       "      <td>4</td>\n",
       "      <td>4</td>\n",
       "      <td>4</td>\n",
       "      <td>False</td>\n",
       "      <td>False</td>\n",
       "    </tr>\n",
       "    <tr>\n",
       "      <th>4</th>\n",
       "      <td>2002-01-05</td>\n",
       "      <td>2002</td>\n",
       "      <td>1</td>\n",
       "      <td>5</td>\n",
       "      <td>5</td>\n",
       "      <td>5</td>\n",
       "      <td>False</td>\n",
       "      <td>True</td>\n",
       "    </tr>\n",
       "  </tbody>\n",
       "</table>\n",
       "</div>"
      ],
      "text/plain": [
       "        date  year  month  day  weekday  day_of_year  is_holiday  is_weekend\n",
       "0 2002-01-01  2002      1    1        1            1        True       False\n",
       "1 2002-01-02  2002      1    2        2            2       False       False\n",
       "2 2002-01-03  2002      1    3        3            3       False       False\n",
       "3 2002-01-04  2002      1    4        4            4       False       False\n",
       "4 2002-01-05  2002      1    5        5            5       False        True"
      ]
     },
     "execution_count": 20,
     "metadata": {},
     "output_type": "execute_result"
    }
   ],
   "source": [
    "# create a date dimension table and populate it 20 years ago to today\n",
    "date_dim_columns = ['date', 'year', 'month', 'day', 'weekday', 'day_of_year', 'is_holiday', 'is_weekend']\n",
    "date_dim_df = pd.DataFrame(columns=date_dim_columns)\n",
    "date_dim_df['date'] = pd.date_range(start='20020101', end='20221231')\n",
    "date_dim_df['year'] = date_dim_df['date'].dt.year\n",
    "date_dim_df['month'] = date_dim_df['date'].dt.month\n",
    "date_dim_df['day'] = date_dim_df['date'].dt.day\n",
    "date_dim_df['weekday'] = date_dim_df['date'].dt.weekday\n",
    "date_dim_df['day_of_year'] = date_dim_df['date'].dt.dayofyear\n",
    "date_dim_df['is_holiday'] = date_dim_df['date'].apply(lambda x: x in holidays.BR(state='SP', years=x.year))\n",
    "date_dim_df['is_weekend'] = date_dim_df['date'].dt.weekday.isin([5, 6])\n",
    "# date_dim_df.to_csv('date_dim.csv', index=False)\n",
    "date_dim_df.head()"
   ]
  },
  {
   "cell_type": "code",
   "execution_count": 15,
   "metadata": {},
   "outputs": [],
   "source": [
    "cnx = mysql.connector.connect(user=os.environ['MYSQL_USER'],\n",
    "                            password=os.environ['MYSQL_PASSWORD'],\n",
    "                            host=os.environ['MYSQL_HOST'],\n",
    "                            database=os.environ['MYSQL_DATABASE'],\n",
    "                            auth_plugin='mysql_native_password')"
   ]
  },
  {
   "cell_type": "code",
   "execution_count": 21,
   "metadata": {},
   "outputs": [
    {
     "data": {
      "text/plain": [
       "True"
      ]
     },
     "execution_count": 21,
     "metadata": {},
     "output_type": "execute_result"
    }
   ],
   "source": [
    "# create table with the same structure as the df date_dim_df, with date_id auto incremented, and insert data from the df date_dim_df\n",
    "cursor = cnx.cursor()\n",
    "cursor.execute('DROP TABLE IF EXISTS date_dim')\n",
    "cursor.execute('CREATE TABLE date_dim (date_id INT AUTO_INCREMENT PRIMARY KEY, date DATE, year INT, month INT, day INT, weekday INT, day_of_year INT, is_holiday BOOLEAN, is_weekend BOOLEAN)')\n",
    "cursor.executemany('INSERT INTO date_dim (date, year, month, day, weekday, day_of_year, is_holiday, is_weekend) VALUES (%s, %s, %s, %s, %s, %s, %s, %s)', date_dim_df.values.tolist())\n",
    "cnx.commit()\n",
    "cursor.close()"
   ]
  },
  {
   "cell_type": "code",
   "execution_count": 23,
   "metadata": {},
   "outputs": [
    {
     "name": "stdout",
     "output_type": "stream",
     "text": [
      "(1, datetime.date(2002, 1, 1), 2002, 1, 1, 1, 1, 1, 0)\n",
      "(2, datetime.date(2002, 1, 2), 2002, 1, 2, 2, 2, 0, 0)\n",
      "(3, datetime.date(2002, 1, 3), 2002, 1, 3, 3, 3, 0, 0)\n",
      "(4, datetime.date(2002, 1, 4), 2002, 1, 4, 4, 4, 0, 0)\n",
      "(5, datetime.date(2002, 1, 5), 2002, 1, 5, 5, 5, 0, 1)\n",
      "(6, datetime.date(2002, 1, 6), 2002, 1, 6, 6, 6, 0, 1)\n",
      "(7, datetime.date(2002, 1, 7), 2002, 1, 7, 0, 7, 0, 0)\n",
      "(8, datetime.date(2002, 1, 8), 2002, 1, 8, 1, 8, 0, 0)\n",
      "(9, datetime.date(2002, 1, 9), 2002, 1, 9, 2, 9, 0, 0)\n",
      "(10, datetime.date(2002, 1, 10), 2002, 1, 10, 3, 10, 0, 0)\n"
     ]
    },
    {
     "data": {
      "text/plain": [
       "True"
      ]
     },
     "execution_count": 23,
     "metadata": {},
     "output_type": "execute_result"
    }
   ],
   "source": [
    "# check if the table was created and populated correctly, print the first 10 rows\n",
    "cursor = cnx.cursor()\n",
    "cursor.execute('SELECT * FROM date_dim LIMIT 10')\n",
    "for row in cursor:\n",
    "    print(row)\n",
    "cursor.close()"
   ]
  },
  {
   "cell_type": "code",
   "execution_count": null,
   "metadata": {},
   "outputs": [],
   "source": []
  }
 ],
 "metadata": {
  "kernelspec": {
   "display_name": "Python 3.10.4 64-bit",
   "language": "python",
   "name": "python3"
  },
  "language_info": {
   "codemirror_mode": {
    "name": "ipython",
    "version": 3
   },
   "file_extension": ".py",
   "mimetype": "text/x-python",
   "name": "python",
   "nbconvert_exporter": "python",
   "pygments_lexer": "ipython3",
   "version": "3.10.4"
  },
  "orig_nbformat": 4,
  "vscode": {
   "interpreter": {
    "hash": "e7370f93d1d0cde622a1f8e1c04877d8463912d04d973331ad4851f04de6915a"
   }
  }
 },
 "nbformat": 4,
 "nbformat_minor": 2
}
