{
 "cells": [
  {
   "cell_type": "code",
   "execution_count": 1,
   "metadata": {},
   "outputs": [
    {
     "data": {
      "text/plain": [
       "True"
      ]
     },
     "execution_count": 1,
     "metadata": {},
     "output_type": "execute_result"
    }
   ],
   "source": [
    "import pandas as pd\n",
    "import numpy as np\n",
    "import holidays\n",
    "import mysql.connector\n",
    "import os\n",
    "import random\n",
    "from faker import Faker\n",
    "from faker_education import SchoolProvider\n",
    "from dotenv import load_dotenv\n",
    "load_dotenv()"
   ]
  },
  {
   "cell_type": "code",
   "execution_count": 2,
   "metadata": {},
   "outputs": [],
   "source": [
    "Faker.seed(1607)\n",
    "random.seed(1607)\n",
    "fake = Faker('pt_BR')\n",
    "fake.add_provider(SchoolProvider)"
   ]
  },
  {
   "cell_type": "code",
   "execution_count": 3,
   "metadata": {},
   "outputs": [
    {
     "data": {
      "text/html": [
       "<div>\n",
       "<style scoped>\n",
       "    .dataframe tbody tr th:only-of-type {\n",
       "        vertical-align: middle;\n",
       "    }\n",
       "\n",
       "    .dataframe tbody tr th {\n",
       "        vertical-align: top;\n",
       "    }\n",
       "\n",
       "    .dataframe thead th {\n",
       "        text-align: right;\n",
       "    }\n",
       "</style>\n",
       "<table border=\"1\" class=\"dataframe\">\n",
       "  <thead>\n",
       "    <tr style=\"text-align: right;\">\n",
       "      <th></th>\n",
       "      <th>date</th>\n",
       "      <th>year</th>\n",
       "      <th>month</th>\n",
       "      <th>day</th>\n",
       "      <th>weekday</th>\n",
       "      <th>day_of_year</th>\n",
       "      <th>is_holiday</th>\n",
       "      <th>is_weekend</th>\n",
       "    </tr>\n",
       "  </thead>\n",
       "  <tbody>\n",
       "    <tr>\n",
       "      <th>0</th>\n",
       "      <td>2002-01-01</td>\n",
       "      <td>2002</td>\n",
       "      <td>1</td>\n",
       "      <td>1</td>\n",
       "      <td>1</td>\n",
       "      <td>1</td>\n",
       "      <td>True</td>\n",
       "      <td>False</td>\n",
       "    </tr>\n",
       "    <tr>\n",
       "      <th>1</th>\n",
       "      <td>2002-01-02</td>\n",
       "      <td>2002</td>\n",
       "      <td>1</td>\n",
       "      <td>2</td>\n",
       "      <td>2</td>\n",
       "      <td>2</td>\n",
       "      <td>False</td>\n",
       "      <td>False</td>\n",
       "    </tr>\n",
       "    <tr>\n",
       "      <th>2</th>\n",
       "      <td>2002-01-03</td>\n",
       "      <td>2002</td>\n",
       "      <td>1</td>\n",
       "      <td>3</td>\n",
       "      <td>3</td>\n",
       "      <td>3</td>\n",
       "      <td>False</td>\n",
       "      <td>False</td>\n",
       "    </tr>\n",
       "    <tr>\n",
       "      <th>3</th>\n",
       "      <td>2002-01-04</td>\n",
       "      <td>2002</td>\n",
       "      <td>1</td>\n",
       "      <td>4</td>\n",
       "      <td>4</td>\n",
       "      <td>4</td>\n",
       "      <td>False</td>\n",
       "      <td>False</td>\n",
       "    </tr>\n",
       "    <tr>\n",
       "      <th>4</th>\n",
       "      <td>2002-01-05</td>\n",
       "      <td>2002</td>\n",
       "      <td>1</td>\n",
       "      <td>5</td>\n",
       "      <td>5</td>\n",
       "      <td>5</td>\n",
       "      <td>False</td>\n",
       "      <td>True</td>\n",
       "    </tr>\n",
       "  </tbody>\n",
       "</table>\n",
       "</div>"
      ],
      "text/plain": [
       "        date  year  month  day  weekday  day_of_year  is_holiday  is_weekend\n",
       "0 2002-01-01  2002      1    1        1            1        True       False\n",
       "1 2002-01-02  2002      1    2        2            2       False       False\n",
       "2 2002-01-03  2002      1    3        3            3       False       False\n",
       "3 2002-01-04  2002      1    4        4            4       False       False\n",
       "4 2002-01-05  2002      1    5        5            5       False        True"
      ]
     },
     "execution_count": 3,
     "metadata": {},
     "output_type": "execute_result"
    }
   ],
   "source": [
    "# create a date dimension table and populate it 20 years ago to today\n",
    "date_dim_columns = ['date', 'year', 'month', 'day', 'weekday', 'day_of_year', 'is_holiday', 'is_weekend']\n",
    "date_dim_df = pd.DataFrame(columns=date_dim_columns)\n",
    "date_dim_df['date'] = pd.date_range(start='20020101', end='20221231')\n",
    "date_dim_df['year'] = date_dim_df['date'].dt.year\n",
    "date_dim_df['month'] = date_dim_df['date'].dt.month\n",
    "date_dim_df['day'] = date_dim_df['date'].dt.day\n",
    "date_dim_df['weekday'] = date_dim_df['date'].dt.weekday\n",
    "date_dim_df['day_of_year'] = date_dim_df['date'].dt.dayofyear\n",
    "date_dim_df['is_holiday'] = date_dim_df['date'].apply(lambda x: x in holidays.BR(state='SP', years=x.year))\n",
    "date_dim_df['is_weekend'] = date_dim_df['date'].dt.weekday.isin([5, 6])\n",
    "# date_dim_df.to_csv('date_dim.csv', index=False)\n",
    "date_dim_df.head()"
   ]
  },
  {
   "cell_type": "code",
   "execution_count": 4,
   "metadata": {},
   "outputs": [],
   "source": [
    "cnx = mysql.connector.connect(user=os.environ['MYSQL_USER'],\n",
    "                            password=os.environ['MYSQL_PASSWORD'],\n",
    "                            host=os.environ['MYSQL_HOST'],\n",
    "                            database=os.environ['MYSQL_DATABASE'],\n",
    "                            auth_plugin='mysql_native_password')"
   ]
  },
  {
   "cell_type": "code",
   "execution_count": 5,
   "metadata": {},
   "outputs": [
    {
     "data": {
      "text/plain": [
       "True"
      ]
     },
     "execution_count": 5,
     "metadata": {},
     "output_type": "execute_result"
    }
   ],
   "source": [
    "# create table with the same structure as the df date_dim_df, with date_id auto incremented, and insert data from the df date_dim_df\n",
    "cursor = cnx.cursor()\n",
    "cursor.execute('DROP TABLE IF EXISTS date_dim')\n",
    "cursor.execute('CREATE TABLE date_dim (date_id INT AUTO_INCREMENT PRIMARY KEY, date DATE, year INT, month INT, day INT, weekday INT, day_of_year INT, is_holiday BOOLEAN, is_weekend BOOLEAN)')\n",
    "cursor.executemany('INSERT INTO date_dim (date, year, month, day, weekday, day_of_year, is_holiday, is_weekend) VALUES (%s, %s, %s, %s, %s, %s, %s, %s)', date_dim_df.values.tolist())\n",
    "cnx.commit()\n",
    "cursor.close()"
   ]
  },
  {
   "cell_type": "code",
   "execution_count": 6,
   "metadata": {},
   "outputs": [
    {
     "name": "stdout",
     "output_type": "stream",
     "text": [
      "(1, datetime.date(2002, 1, 1), 2002, 1, 1, 1, 1, 1, 0)\n",
      "(2, datetime.date(2002, 1, 2), 2002, 1, 2, 2, 2, 0, 0)\n",
      "(3, datetime.date(2002, 1, 3), 2002, 1, 3, 3, 3, 0, 0)\n",
      "(4, datetime.date(2002, 1, 4), 2002, 1, 4, 4, 4, 0, 0)\n",
      "(5, datetime.date(2002, 1, 5), 2002, 1, 5, 5, 5, 0, 1)\n",
      "(6, datetime.date(2002, 1, 6), 2002, 1, 6, 6, 6, 0, 1)\n",
      "(7, datetime.date(2002, 1, 7), 2002, 1, 7, 0, 7, 0, 0)\n",
      "(8, datetime.date(2002, 1, 8), 2002, 1, 8, 1, 8, 0, 0)\n",
      "(9, datetime.date(2002, 1, 9), 2002, 1, 9, 2, 9, 0, 0)\n",
      "(10, datetime.date(2002, 1, 10), 2002, 1, 10, 3, 10, 0, 0)\n"
     ]
    },
    {
     "data": {
      "text/plain": [
       "True"
      ]
     },
     "execution_count": 6,
     "metadata": {},
     "output_type": "execute_result"
    }
   ],
   "source": [
    "# check if the table was created and populated correctly, print the first 10 rows\n",
    "cursor = cnx.cursor()\n",
    "cursor.execute('SELECT * FROM date_dim LIMIT 10')\n",
    "for row in cursor:\n",
    "    print(row)\n",
    "cursor.close()"
   ]
  },
  {
   "cell_type": "code",
   "execution_count": 7,
   "metadata": {},
   "outputs": [
    {
     "data": {
      "text/html": [
       "<div>\n",
       "<style scoped>\n",
       "    .dataframe tbody tr th:only-of-type {\n",
       "        vertical-align: middle;\n",
       "    }\n",
       "\n",
       "    .dataframe tbody tr th {\n",
       "        vertical-align: top;\n",
       "    }\n",
       "\n",
       "    .dataframe thead th {\n",
       "        text-align: right;\n",
       "    }\n",
       "</style>\n",
       "<table border=\"1\" class=\"dataframe\">\n",
       "  <thead>\n",
       "    <tr style=\"text-align: right;\">\n",
       "      <th></th>\n",
       "      <th>school_name</th>\n",
       "      <th>school_district</th>\n",
       "      <th>school_level</th>\n",
       "      <th>school_state</th>\n",
       "      <th>max_students</th>\n",
       "    </tr>\n",
       "  </thead>\n",
       "  <tbody>\n",
       "    <tr>\n",
       "      <th>0</th>\n",
       "      <td>FERNANDINA BEACH HIGH SCHOOL</td>\n",
       "      <td>NASSAU</td>\n",
       "      <td>High</td>\n",
       "      <td>FL</td>\n",
       "      <td>890</td>\n",
       "    </tr>\n",
       "    <tr>\n",
       "      <th>1</th>\n",
       "      <td>H D STAPLES EL</td>\n",
       "      <td>JOSHUA ISD</td>\n",
       "      <td>Middle</td>\n",
       "      <td>TX</td>\n",
       "      <td>990</td>\n",
       "    </tr>\n",
       "    <tr>\n",
       "      <th>2</th>\n",
       "      <td>Sacopee Valley High Sch</td>\n",
       "      <td>RSU 55/MSAD 55</td>\n",
       "      <td>Middle</td>\n",
       "      <td>ME</td>\n",
       "      <td>260</td>\n",
       "    </tr>\n",
       "    <tr>\n",
       "      <th>3</th>\n",
       "      <td>James Island Charter High</td>\n",
       "      <td>Charleston 01</td>\n",
       "      <td>Elementary</td>\n",
       "      <td>SC</td>\n",
       "      <td>520</td>\n",
       "    </tr>\n",
       "    <tr>\n",
       "      <th>4</th>\n",
       "      <td>Chatham Correspondence</td>\n",
       "      <td>Chatham School District</td>\n",
       "      <td>Middle</td>\n",
       "      <td>AK</td>\n",
       "      <td>290</td>\n",
       "    </tr>\n",
       "  </tbody>\n",
       "</table>\n",
       "</div>"
      ],
      "text/plain": [
       "                    school_name          school_district school_level  \\\n",
       "0  FERNANDINA BEACH HIGH SCHOOL                   NASSAU         High   \n",
       "1                H D STAPLES EL               JOSHUA ISD       Middle   \n",
       "2       Sacopee Valley High Sch           RSU 55/MSAD 55       Middle   \n",
       "3     James Island Charter High            Charleston 01   Elementary   \n",
       "4        Chatham Correspondence  Chatham School District       Middle   \n",
       "\n",
       "  school_state  max_students  \n",
       "0           FL           890  \n",
       "1           TX           990  \n",
       "2           ME           260  \n",
       "3           SC           520  \n",
       "4           AK           290  "
      ]
     },
     "execution_count": 7,
     "metadata": {},
     "output_type": "execute_result"
    }
   ],
   "source": [
    "# we are modelling a network of 1000 schools from the Alan Turing Group, each with a different number of students, a different location, and different teachers\n",
    "SCHOOLS = 1000\n",
    "school_dim_columns = ['school_name', 'school_district', 'school_level', 'school_state', 'max_students']\n",
    "school_dim_df = pd.DataFrame(columns=school_dim_columns)\n",
    "schools = [fake.school_object() for _ in range(SCHOOLS)]\n",
    "school_dim_df['school_name'] = [school['school'] for school in schools]\n",
    "school_dim_df['max_students'] = [random.randint(10, 100) * 10 for _ in range(SCHOOLS)]\n",
    "school_dim_df['school_district'] = [school['district'] for school in schools]\n",
    "school_dim_df['school_level'] = [random.choice(['Elementary', 'Middle', 'High']) for school in schools]\n",
    "school_dim_df['school_state'] = [school['state'] for school in schools]\n",
    "# school_dim_df.to_csv('school_dim.csv', index=False)\n",
    "school_dim_df.head()"
   ]
  },
  {
   "cell_type": "code",
   "execution_count": 8,
   "metadata": {},
   "outputs": [],
   "source": [
    "# insert the data from the df school_dim_df into the table school_dim\n",
    "cursor = cnx.cursor()\n",
    "cursor.execute('DROP TABLE IF EXISTS school_dim')\n",
    "cursor.execute('CREATE TABLE school_dim (school_id INT AUTO_INCREMENT PRIMARY KEY, school_name VARCHAR(255), school_district VARCHAR(255), school_level VARCHAR(255), school_state VARCHAR(255), max_students INT)')\n",
    "cursor.executemany('INSERT INTO school_dim (school_name, school_district, school_level, school_state, max_students) VALUES (%s, %s, %s, %s, %s)', school_dim_df.values.tolist())\n",
    "cnx.commit()"
   ]
  },
  {
   "cell_type": "code",
   "execution_count": 9,
   "metadata": {},
   "outputs": [
    {
     "name": "stdout",
     "output_type": "stream",
     "text": [
      "(1, 'FERNANDINA BEACH HIGH SCHOOL', 'NASSAU', 'High', 'FL', 890)\n",
      "(2, 'H D STAPLES EL', 'JOSHUA ISD', 'Middle', 'TX', 990)\n",
      "(3, 'Sacopee Valley High Sch', 'RSU 55/MSAD 55', 'Middle', 'ME', 260)\n",
      "(4, 'James Island Charter High', 'Charleston 01', 'Elementary', 'SC', 520)\n",
      "(5, 'Chatham Correspondence', 'Chatham School District', 'Middle', 'AK', 290)\n",
      "(6, 'Wilkins Elementary', 'Platteville School District', 'High', 'WI', 180)\n",
      "(7, 'FRONTIER ELEMENTARY SCHOOL', 'JOINT SCHOOL DISTRICT NO. 2', 'Middle', 'ID', 460)\n",
      "(8, 'Downeast School', 'Bangor Public Schools', 'Elementary', 'ME', 240)\n",
      "(9, 'Northside Elementary School', 'Coweta County', 'High', 'GA', 350)\n",
      "(10, 'Hollywood Elementary', \"St. Mary's County Public Schools\", 'Middle', 'MD', 380)\n"
     ]
    },
    {
     "data": {
      "text/plain": [
       "True"
      ]
     },
     "execution_count": 9,
     "metadata": {},
     "output_type": "execute_result"
    }
   ],
   "source": [
    "# check if the table was created and populated correctly, print the first 10 rows\n",
    "cursor = cnx.cursor()\n",
    "cursor.execute('SELECT * FROM school_dim LIMIT 10')\n",
    "for row in cursor:\n",
    "    print(row)\n",
    "cursor.close()\n"
   ]
  },
  {
   "cell_type": "code",
   "execution_count": 10,
   "metadata": {},
   "outputs": [
    {
     "data": {
      "text/html": [
       "<div>\n",
       "<style scoped>\n",
       "    .dataframe tbody tr th:only-of-type {\n",
       "        vertical-align: middle;\n",
       "    }\n",
       "\n",
       "    .dataframe tbody tr th {\n",
       "        vertical-align: top;\n",
       "    }\n",
       "\n",
       "    .dataframe thead th {\n",
       "        text-align: right;\n",
       "    }\n",
       "</style>\n",
       "<table border=\"1\" class=\"dataframe\">\n",
       "  <thead>\n",
       "    <tr style=\"text-align: right;\">\n",
       "      <th></th>\n",
       "      <th>school_subject</th>\n",
       "      <th>classes_per_week</th>\n",
       "      <th>code</th>\n",
       "    </tr>\n",
       "  </thead>\n",
       "  <tbody>\n",
       "    <tr>\n",
       "      <th>0</th>\n",
       "      <td>Math</td>\n",
       "      <td>5</td>\n",
       "      <td>MTH</td>\n",
       "    </tr>\n",
       "    <tr>\n",
       "      <th>1</th>\n",
       "      <td>Science</td>\n",
       "      <td>5</td>\n",
       "      <td>SCI</td>\n",
       "    </tr>\n",
       "    <tr>\n",
       "      <th>2</th>\n",
       "      <td>History</td>\n",
       "      <td>5</td>\n",
       "      <td>HIS</td>\n",
       "    </tr>\n",
       "    <tr>\n",
       "      <th>3</th>\n",
       "      <td>English</td>\n",
       "      <td>5</td>\n",
       "      <td>ENG</td>\n",
       "    </tr>\n",
       "    <tr>\n",
       "      <th>4</th>\n",
       "      <td>Art</td>\n",
       "      <td>2</td>\n",
       "      <td>ART</td>\n",
       "    </tr>\n",
       "    <tr>\n",
       "      <th>5</th>\n",
       "      <td>Music</td>\n",
       "      <td>2</td>\n",
       "      <td>MUS</td>\n",
       "    </tr>\n",
       "    <tr>\n",
       "      <th>6</th>\n",
       "      <td>PE</td>\n",
       "      <td>3</td>\n",
       "      <td>PE</td>\n",
       "    </tr>\n",
       "    <tr>\n",
       "      <th>7</th>\n",
       "      <td>Social Studies</td>\n",
       "      <td>4</td>\n",
       "      <td>SOC</td>\n",
       "    </tr>\n",
       "    <tr>\n",
       "      <th>8</th>\n",
       "      <td>Foreign Language</td>\n",
       "      <td>3</td>\n",
       "      <td>FL</td>\n",
       "    </tr>\n",
       "    <tr>\n",
       "      <th>9</th>\n",
       "      <td>Technology</td>\n",
       "      <td>2</td>\n",
       "      <td>TEC</td>\n",
       "    </tr>\n",
       "  </tbody>\n",
       "</table>\n",
       "</div>"
      ],
      "text/plain": [
       "     school_subject  classes_per_week code\n",
       "0              Math                 5  MTH\n",
       "1           Science                 5  SCI\n",
       "2           History                 5  HIS\n",
       "3           English                 5  ENG\n",
       "4               Art                 2  ART\n",
       "5             Music                 2  MUS\n",
       "6                PE                 3   PE\n",
       "7    Social Studies                 4  SOC\n",
       "8  Foreign Language                 3   FL\n",
       "9        Technology                 2  TEC"
      ]
     },
     "execution_count": 10,
     "metadata": {},
     "output_type": "execute_result"
    }
   ],
   "source": [
    "# Math,  'Science', 'History', 'English', 'Art', 'Music', 'PE', 'Social Studies', 'Foreign Language', 'Technology'\n",
    "school_subjects = [\n",
    "    {'school_subject':'Math',\n",
    "    'classes_per_week': 5,\n",
    "    'code': 'MTH'},\n",
    "    {'school_subject':'Science',\n",
    "    'classes_per_week': 5,\n",
    "    'code': 'SCI'},\n",
    "    {'school_subject':'History',\n",
    "    'classes_per_week': 5,\n",
    "    'code': 'HIS'},\n",
    "    {'school_subject':'English',\n",
    "    'classes_per_week': 5,\n",
    "    'code': 'ENG'},\n",
    "    {'school_subject':'Art',\n",
    "    'classes_per_week': 2,\n",
    "    'code': 'ART'},\n",
    "    {'school_subject':'Music',\n",
    "    'classes_per_week': 2,\n",
    "    'code': 'MUS'},\n",
    "    {'school_subject':'PE',\n",
    "    'classes_per_week': 3,\n",
    "    'code': 'PE'},\n",
    "    {'school_subject':'Social Studies',\n",
    "    'classes_per_week': 4,\n",
    "    'code': 'SOC'},\n",
    "    {'school_subject':'Foreign Language',\n",
    "    'classes_per_week': 3,\n",
    "    'code': 'FL'},\n",
    "    {'school_subject':'Technology',\n",
    "    'classes_per_week': 2,\n",
    "    'code': 'TEC'}\n",
    "]\n",
    "school_subject_dim_df = pd.DataFrame(data=school_subjects)\n",
    "# school_subject_dim_df.to_csv('school_subject_dim.csv', index=False)\n",
    "school_subject_dim_df"
   ]
  },
  {
   "cell_type": "code",
   "execution_count": 11,
   "metadata": {},
   "outputs": [],
   "source": [
    "# insert the data from the df school_subject_dim_df into the table school_subject_dim\n",
    "cursor = cnx.cursor()\n",
    "cursor.execute('DROP TABLE IF EXISTS school_subject_dim')\n",
    "cursor.execute('CREATE TABLE school_subject_dim (school_subject_id INT AUTO_INCREMENT PRIMARY KEY, school_subject VARCHAR(255), classes_per_week INT, code CHAR(3))')\n",
    "cursor.executemany('INSERT INTO school_subject_dim (school_subject, classes_per_week, code) VALUES (%s, %s, %s)', school_subject_dim_df.values.tolist())\n",
    "cnx.commit()"
   ]
  },
  {
   "cell_type": "code",
   "execution_count": 12,
   "metadata": {},
   "outputs": [
    {
     "name": "stdout",
     "output_type": "stream",
     "text": [
      "(1, 'Math', 5, 'MTH')\n",
      "(2, 'Science', 5, 'SCI')\n",
      "(3, 'History', 5, 'HIS')\n",
      "(4, 'English', 5, 'ENG')\n",
      "(5, 'Art', 2, 'ART')\n",
      "(6, 'Music', 2, 'MUS')\n",
      "(7, 'PE', 3, 'PE')\n",
      "(8, 'Social Studies', 4, 'SOC')\n",
      "(9, 'Foreign Language', 3, 'FL')\n",
      "(10, 'Technology', 2, 'TEC')\n"
     ]
    },
    {
     "data": {
      "text/plain": [
       "True"
      ]
     },
     "execution_count": 12,
     "metadata": {},
     "output_type": "execute_result"
    }
   ],
   "source": [
    "# check if the table was created and populated correctly, print the first 10 rows\n",
    "cursor = cnx.cursor()\n",
    "cursor.execute('SELECT * FROM school_subject_dim LIMIT 10')\n",
    "for row in cursor:\n",
    "    print(row)\n",
    "cursor.close()"
   ]
  },
  {
   "cell_type": "code",
   "execution_count": 13,
   "metadata": {},
   "outputs": [
    {
     "data": {
      "text/html": [
       "<div>\n",
       "<style scoped>\n",
       "    .dataframe tbody tr th:only-of-type {\n",
       "        vertical-align: middle;\n",
       "    }\n",
       "\n",
       "    .dataframe tbody tr th {\n",
       "        vertical-align: top;\n",
       "    }\n",
       "\n",
       "    .dataframe thead th {\n",
       "        text-align: right;\n",
       "    }\n",
       "</style>\n",
       "<table border=\"1\" class=\"dataframe\">\n",
       "  <thead>\n",
       "    <tr style=\"text-align: right;\">\n",
       "      <th></th>\n",
       "      <th>school_id</th>\n",
       "      <th>teacher_name</th>\n",
       "      <th>sex</th>\n",
       "      <th>birthdate</th>\n",
       "      <th>email</th>\n",
       "      <th>start_year</th>\n",
       "      <th>end_year</th>\n",
       "    </tr>\n",
       "  </thead>\n",
       "  <tbody>\n",
       "    <tr>\n",
       "      <th>0</th>\n",
       "      <td>1</td>\n",
       "      <td>Alexia Lima</td>\n",
       "      <td>F</td>\n",
       "      <td>1981-04-02</td>\n",
       "      <td>milena71@hotmail.com</td>\n",
       "      <td>2019</td>\n",
       "      <td>2011</td>\n",
       "    </tr>\n",
       "    <tr>\n",
       "      <th>1</th>\n",
       "      <td>1</td>\n",
       "      <td>Nicole Costela</td>\n",
       "      <td>F</td>\n",
       "      <td>2016-11-02</td>\n",
       "      <td>cardosobrenda@gmail.com</td>\n",
       "      <td>2003</td>\n",
       "      <td>2008</td>\n",
       "    </tr>\n",
       "    <tr>\n",
       "      <th>2</th>\n",
       "      <td>1</td>\n",
       "      <td>Brenda Freitas</td>\n",
       "      <td>F</td>\n",
       "      <td>1934-07-14</td>\n",
       "      <td>barbara12@yahoo.com.br</td>\n",
       "      <td>2016</td>\n",
       "      <td>2021</td>\n",
       "    </tr>\n",
       "    <tr>\n",
       "      <th>3</th>\n",
       "      <td>1</td>\n",
       "      <td>Leonardo Moraes</td>\n",
       "      <td>M</td>\n",
       "      <td>1958-03-18</td>\n",
       "      <td>ana-sophia78@gmail.com</td>\n",
       "      <td>2007</td>\n",
       "      <td>2015</td>\n",
       "    </tr>\n",
       "    <tr>\n",
       "      <th>4</th>\n",
       "      <td>1</td>\n",
       "      <td>Sr. João Felipe Rocha</td>\n",
       "      <td>M</td>\n",
       "      <td>1922-03-26</td>\n",
       "      <td>lvieira@ig.com.br</td>\n",
       "      <td>2016</td>\n",
       "      <td>2011</td>\n",
       "    </tr>\n",
       "  </tbody>\n",
       "</table>\n",
       "</div>"
      ],
      "text/plain": [
       "   school_id           teacher_name sex   birthdate                    email  \\\n",
       "0          1            Alexia Lima   F  1981-04-02     milena71@hotmail.com   \n",
       "1          1         Nicole Costela   F  2016-11-02  cardosobrenda@gmail.com   \n",
       "2          1         Brenda Freitas   F  1934-07-14   barbara12@yahoo.com.br   \n",
       "3          1        Leonardo Moraes   M  1958-03-18   ana-sophia78@gmail.com   \n",
       "4          1  Sr. João Felipe Rocha   M  1922-03-26        lvieira@ig.com.br   \n",
       "\n",
       "   start_year  end_year  \n",
       "0        2019      2011  \n",
       "1        2003      2008  \n",
       "2        2016      2021  \n",
       "3        2007      2015  \n",
       "4        2016      2011  "
      ]
     },
     "execution_count": 13,
     "metadata": {},
     "output_type": "execute_result"
    }
   ],
   "source": [
    "# for each school, we generate a number of teachers proportional to the max_students, and for each teacher we a starting and an end year, with minimum of 5 years, so that at least 10 teachers are teaching at each school at each time\n",
    "number_of_teachers = [random.randint(1, int(school_dim_df['max_students'][i])) for i in range(SCHOOLS)]\n",
    "teachers = []\n",
    "for i in range(SCHOOLS):\n",
    "    for j in range(number_of_teachers[i]):\n",
    "        profile = fake.profile()\n",
    "        teachers.append({'school_id': i + 1,\n",
    "                            'teacher_name': profile['name'],\n",
    "                            'sex': profile['sex'],\n",
    "                            'birthdate': profile['birthdate'],\n",
    "                            'email': profile['mail'],\n",
    "                         'start_year': random.randint(2000, 2019),\n",
    "                         'end_year': random.randint(2005, 2024)})\n",
    "teacher_dim_df = pd.DataFrame(data=teachers)\n",
    "# teacher_dim_df.to_csv('teacher_dim.csv', index=False)\n",
    "teacher_dim_df.head()"
   ]
  },
  {
   "cell_type": "code",
   "execution_count": 14,
   "metadata": {},
   "outputs": [],
   "source": [
    "# insert the data from the df teacher_dim_df into the table teacher_dim, but only the start and end year, the school_id will be generated automatically\n",
    "cursor = cnx.cursor()\n",
    "cursor.execute('DROP TABLE IF EXISTS teacher_dim')\n",
    "cursor.execute('CREATE TABLE teacher_dim (teacher_id INT AUTO_INCREMENT PRIMARY KEY, teacher_name VARCHAR(255), sex CHAR(1), birthdate DATE, email VARCHAR(255), start_year INT, end_year INT)')\n",
    "cursor.executemany('INSERT INTO teacher_dim (teacher_name, sex, birthdate, email, start_year, end_year) VALUES (%s, %s, %s, %s, %s, %s)', teacher_dim_df[['teacher_name', 'sex', 'birthdate', 'email', 'start_year', 'end_year']].values.tolist())\n",
    "cnx.commit()"
   ]
  },
  {
   "cell_type": "code",
   "execution_count": 15,
   "metadata": {},
   "outputs": [
    {
     "name": "stdout",
     "output_type": "stream",
     "text": [
      "(1, 'Alexia Lima', 'F', datetime.date(1981, 4, 2), 'milena71@hotmail.com', 2019, 2011)\n",
      "(2, 'Nicole Costela', 'F', datetime.date(2016, 11, 2), 'cardosobrenda@gmail.com', 2003, 2008)\n",
      "(3, 'Brenda Freitas', 'F', datetime.date(1934, 7, 14), 'barbara12@yahoo.com.br', 2016, 2021)\n",
      "(4, 'Leonardo Moraes', 'M', datetime.date(1958, 3, 18), 'ana-sophia78@gmail.com', 2007, 2015)\n",
      "(5, 'Sr. João Felipe Rocha', 'M', datetime.date(1922, 3, 26), 'lvieira@ig.com.br', 2016, 2011)\n",
      "(6, 'Dr. Benício Vieira', 'M', datetime.date(1952, 8, 24), 'udias@ig.com.br', 2006, 2024)\n",
      "(7, 'Ana Laura Pereira', 'F', datetime.date(1972, 4, 22), 'portopedro-miguel@bol.com.br', 2006, 2006)\n",
      "(8, 'Evelyn Ferreira', 'F', datetime.date(1948, 11, 7), 'vitoriada-cruz@ig.com.br', 2002, 2019)\n",
      "(9, 'João Guilherme da Paz', 'M', datetime.date(1914, 12, 31), 'diasrenan@uol.com.br', 2004, 2010)\n",
      "(10, 'Dr. Antônio Rodrigues', 'M', datetime.date(1960, 10, 28), 'da-rosajoao-felipe@gmail.com', 2016, 2017)\n"
     ]
    },
    {
     "data": {
      "text/plain": [
       "True"
      ]
     },
     "execution_count": 15,
     "metadata": {},
     "output_type": "execute_result"
    }
   ],
   "source": [
    "# check if the table was created and populated correctly, print the first 10 rows\n",
    "cursor = cnx.cursor()\n",
    "cursor.execute('SELECT * FROM teacher_dim LIMIT 10')\n",
    "for row in cursor:\n",
    "    print(row)\n",
    "cursor.close()"
   ]
  },
  {
   "cell_type": "code",
   "execution_count": 16,
   "metadata": {},
   "outputs": [
    {
     "data": {
      "text/html": [
       "<div>\n",
       "<style scoped>\n",
       "    .dataframe tbody tr th:only-of-type {\n",
       "        vertical-align: middle;\n",
       "    }\n",
       "\n",
       "    .dataframe tbody tr th {\n",
       "        vertical-align: top;\n",
       "    }\n",
       "\n",
       "    .dataframe thead th {\n",
       "        text-align: right;\n",
       "    }\n",
       "</style>\n",
       "<table border=\"1\" class=\"dataframe\">\n",
       "  <thead>\n",
       "    <tr style=\"text-align: right;\">\n",
       "      <th></th>\n",
       "      <th>type</th>\n",
       "    </tr>\n",
       "  </thead>\n",
       "  <tbody>\n",
       "    <tr>\n",
       "      <th>0</th>\n",
       "      <td>ONLINE</td>\n",
       "    </tr>\n",
       "    <tr>\n",
       "      <th>1</th>\n",
       "      <td>IN PERSON</td>\n",
       "    </tr>\n",
       "  </tbody>\n",
       "</table>\n",
       "</div>"
      ],
      "text/plain": [
       "        type\n",
       "0     ONLINE\n",
       "1  IN PERSON"
      ]
     },
     "execution_count": 16,
     "metadata": {},
     "output_type": "execute_result"
    }
   ],
   "source": [
    "# create a table called type_df with different types of classes, either 'ONLINE' or 'IN PERSON'\n",
    "class_type_df = pd.DataFrame(data=[{'type': 'ONLINE'}, {'type': 'IN PERSON'}])\n",
    "# class_type_df.to_csv('type_dim.csv', index=False)\n",
    "class_type_df"
   ]
  },
  {
   "cell_type": "code",
   "execution_count": 17,
   "metadata": {},
   "outputs": [],
   "source": [
    "# insert the data from the df class_type_df into the table class_type_dim\n",
    "cursor = cnx.cursor()\n",
    "cursor.execute('DROP TABLE IF EXISTS class_type_dim')\n",
    "cursor.execute('CREATE TABLE class_type_dim (type_id INT AUTO_INCREMENT PRIMARY KEY, type CHAR(20))')\n",
    "cursor.executemany('INSERT INTO class_type_dim (type) VALUES (%s)', class_type_df.values.tolist())\n",
    "cnx.commit()"
   ]
  },
  {
   "cell_type": "code",
   "execution_count": 18,
   "metadata": {},
   "outputs": [
    {
     "name": "stdout",
     "output_type": "stream",
     "text": [
      "(1, 'ONLINE')\n",
      "(2, 'IN PERSON')\n"
     ]
    },
    {
     "data": {
      "text/plain": [
       "True"
      ]
     },
     "execution_count": 18,
     "metadata": {},
     "output_type": "execute_result"
    }
   ],
   "source": [
    "#  check if the table was created and populated correctly\n",
    "cursor = cnx.cursor()\n",
    "cursor.execute('SELECT * FROM class_type_dim')\n",
    "for row in cursor:\n",
    "    print(row)\n",
    "cursor.close()\n"
   ]
  },
  {
   "cell_type": "code",
   "execution_count": 19,
   "metadata": {},
   "outputs": [
    {
     "data": {
      "text/html": [
       "<div>\n",
       "<style scoped>\n",
       "    .dataframe tbody tr th:only-of-type {\n",
       "        vertical-align: middle;\n",
       "    }\n",
       "\n",
       "    .dataframe tbody tr th {\n",
       "        vertical-align: top;\n",
       "    }\n",
       "\n",
       "    .dataframe thead th {\n",
       "        text-align: right;\n",
       "    }\n",
       "</style>\n",
       "<table border=\"1\" class=\"dataframe\">\n",
       "  <thead>\n",
       "    <tr style=\"text-align: right;\">\n",
       "      <th></th>\n",
       "      <th>school_id</th>\n",
       "      <th>classroom_code</th>\n",
       "    </tr>\n",
       "  </thead>\n",
       "  <tbody>\n",
       "    <tr>\n",
       "      <th>0</th>\n",
       "      <td>1</td>\n",
       "      <td>csb997</td>\n",
       "    </tr>\n",
       "    <tr>\n",
       "      <th>1</th>\n",
       "      <td>1</td>\n",
       "      <td>Ybz612</td>\n",
       "    </tr>\n",
       "    <tr>\n",
       "      <th>2</th>\n",
       "      <td>1</td>\n",
       "      <td>PCa319</td>\n",
       "    </tr>\n",
       "    <tr>\n",
       "      <th>3</th>\n",
       "      <td>1</td>\n",
       "      <td>FOU108</td>\n",
       "    </tr>\n",
       "    <tr>\n",
       "      <th>4</th>\n",
       "      <td>1</td>\n",
       "      <td>Pqa664</td>\n",
       "    </tr>\n",
       "  </tbody>\n",
       "</table>\n",
       "</div>"
      ],
      "text/plain": [
       "   school_id classroom_code\n",
       "0          1         csb997\n",
       "1          1         Ybz612\n",
       "2          1         PCa319\n",
       "3          1         FOU108\n",
       "4          1         Pqa664"
      ]
     },
     "execution_count": 19,
     "metadata": {},
     "output_type": "execute_result"
    }
   ],
   "source": [
    "# create a table called classroom with different codes for each school\n",
    "classroom = []\n",
    "for i in range(SCHOOLS):\n",
    "    for j in range(school_dim_df['max_students'][i] // random.randint(30,50)):\n",
    "        classroom.append({'school_id': i + 1,\n",
    "                          'classroom_code': fake.unique.bothify(text='???###')})\n",
    "classroom_df = pd.DataFrame(data=classroom)\n",
    "# classroom_df.to_csv('classroom_dim.csv', index=False)\n",
    "classroom_df.head()\n"
   ]
  },
  {
   "cell_type": "code",
   "execution_count": 20,
   "metadata": {},
   "outputs": [],
   "source": [
    "# insert the data from the df classroom_df into the table classroom_dim, but only the classroom_code\n",
    "cursor = cnx.cursor()\n",
    "cursor.execute('DROP TABLE IF EXISTS classroom_dim')\n",
    "cursor.execute('CREATE TABLE classroom_dim (classroom_id INT AUTO_INCREMENT PRIMARY KEY, classroom_code CHAR(6))')\n",
    "cursor.executemany('INSERT INTO classroom_dim (classroom_code) VALUES (%s)', classroom_df[['classroom_code']].values.tolist())\n",
    "cnx.commit()"
   ]
  },
  {
   "cell_type": "code",
   "execution_count": 21,
   "metadata": {},
   "outputs": [
    {
     "name": "stdout",
     "output_type": "stream",
     "text": [
      "(1, 'csb997')\n",
      "(2, 'Ybz612')\n",
      "(3, 'PCa319')\n",
      "(4, 'FOU108')\n",
      "(5, 'Pqa664')\n",
      "(6, 'aLD808')\n",
      "(7, 'ktO002')\n",
      "(8, 'FYo650')\n",
      "(9, 'Okq469')\n",
      "(10, 'kBb301')\n"
     ]
    },
    {
     "data": {
      "text/plain": [
       "True"
      ]
     },
     "execution_count": 21,
     "metadata": {},
     "output_type": "execute_result"
    }
   ],
   "source": [
    "# check if the table was created and populated correctly, print the first 10 rows\n",
    "cursor = cnx.cursor()\n",
    "cursor.execute('SELECT * FROM classroom_dim LIMIT 10')\n",
    "for row in cursor:\n",
    "    print(row)\n",
    "cursor.close()"
   ]
  },
  {
   "cell_type": "code",
   "execution_count": 23,
   "metadata": {},
   "outputs": [
    {
     "data": {
      "text/html": [
       "<div>\n",
       "<style scoped>\n",
       "    .dataframe tbody tr th:only-of-type {\n",
       "        vertical-align: middle;\n",
       "    }\n",
       "\n",
       "    .dataframe tbody tr th {\n",
       "        vertical-align: top;\n",
       "    }\n",
       "\n",
       "    .dataframe thead th {\n",
       "        text-align: right;\n",
       "    }\n",
       "</style>\n",
       "<table border=\"1\" class=\"dataframe\">\n",
       "  <thead>\n",
       "    <tr style=\"text-align: right;\">\n",
       "      <th></th>\n",
       "      <th>school_id</th>\n",
       "      <th>year</th>\n",
       "      <th>class_code</th>\n",
       "      <th>students</th>\n",
       "      <th>class_period</th>\n",
       "      <th>class_level</th>\n",
       "    </tr>\n",
       "  </thead>\n",
       "  <tbody>\n",
       "    <tr>\n",
       "      <th>0</th>\n",
       "      <td>1</td>\n",
       "      <td>2000</td>\n",
       "      <td>FXz103</td>\n",
       "      <td>48</td>\n",
       "      <td>Morning</td>\n",
       "      <td>High</td>\n",
       "    </tr>\n",
       "    <tr>\n",
       "      <th>1</th>\n",
       "      <td>1</td>\n",
       "      <td>2000</td>\n",
       "      <td>puA234</td>\n",
       "      <td>48</td>\n",
       "      <td>Morning</td>\n",
       "      <td>Middle</td>\n",
       "    </tr>\n",
       "    <tr>\n",
       "      <th>2</th>\n",
       "      <td>1</td>\n",
       "      <td>2000</td>\n",
       "      <td>vrg139</td>\n",
       "      <td>39</td>\n",
       "      <td>Morning</td>\n",
       "      <td>High</td>\n",
       "    </tr>\n",
       "    <tr>\n",
       "      <th>3</th>\n",
       "      <td>1</td>\n",
       "      <td>2000</td>\n",
       "      <td>TxZ209</td>\n",
       "      <td>50</td>\n",
       "      <td>Afternoon</td>\n",
       "      <td>Elementary</td>\n",
       "    </tr>\n",
       "    <tr>\n",
       "      <th>4</th>\n",
       "      <td>1</td>\n",
       "      <td>2000</td>\n",
       "      <td>Xpr474</td>\n",
       "      <td>36</td>\n",
       "      <td>Evening</td>\n",
       "      <td>High</td>\n",
       "    </tr>\n",
       "  </tbody>\n",
       "</table>\n",
       "</div>"
      ],
      "text/plain": [
       "   school_id  year class_code  students class_period class_level\n",
       "0          1  2000     FXz103        48      Morning        High\n",
       "1          1  2000     puA234        48      Morning      Middle\n",
       "2          1  2000     vrg139        39      Morning        High\n",
       "3          1  2000     TxZ209        50    Afternoon  Elementary\n",
       "4          1  2000     Xpr474        36      Evening        High"
      ]
     },
     "execution_count": 23,
     "metadata": {},
     "output_type": "execute_result"
    }
   ],
   "source": [
    "# for each year from 2000 to 2022, and for each school, create a list of classes with random.randint(30,50) students\n",
    "# so that the total number of students is not greater than the max_students of the school\n",
    "classes = []\n",
    "CLASS_LEVEL_OPTIONS = {\n",
    "    'High': ['Elementary', 'Middle', 'High'],\n",
    "    'Middle': ['Elementary', 'Middle'],\n",
    "    'Elementary': ['Elementary']\n",
    "}\n",
    "for i in range(SCHOOLS):\n",
    "    for j in range(2000, 2023):\n",
    "        max_students = school_dim_df['max_students'][i]\n",
    "        number_of_classes = max_students // 50\n",
    "        for k in range(number_of_classes):\n",
    "            classes.append({'school_id': i + 1,\n",
    "                            'year': j,\n",
    "                            'class_code': fake.unique.bothify(text='???###'),\n",
    "                            'students': random.randint(30, 50),\n",
    "                            'class_period': random.choice(['Morning', 'Afternoon', 'Evening']),\n",
    "                            'class_level': random.choice(CLASS_LEVEL_OPTIONS[school_dim_df['school_level'][i]])\n",
    "                            })\n",
    "classes_df = pd.DataFrame(data=classes)\n",
    "# classes_df.to_csv('classes_dim.csv', index=False)\n",
    "classes_df.head()"
   ]
  },
  {
   "cell_type": "code",
   "execution_count": 24,
   "metadata": {},
   "outputs": [],
   "source": [
    "# insert the data from the df classes_df into the table classes_dim, but only the class_code, students, class_period and class_level\n",
    "cursor = cnx.cursor()\n",
    "cursor.execute('DROP TABLE IF EXISTS classes_dim')\n",
    "cursor.execute('CREATE TABLE classes_dim (class_id INT AUTO_INCREMENT PRIMARY KEY, class_code CHAR(6), students INT, class_period CHAR(20), class_level CHAR(20))')\n",
    "cursor.executemany('INSERT INTO classes_dim (class_code, students, class_period, class_level) VALUES (%s, %s, %s, %s)', classes_df[['class_code', 'students', 'class_period', 'class_level']].values.tolist())\n",
    "cnx.commit()"
   ]
  },
  {
   "cell_type": "code",
   "execution_count": 25,
   "metadata": {},
   "outputs": [
    {
     "name": "stdout",
     "output_type": "stream",
     "text": [
      "(1, 'FXz103', 48, 'Morning', 'High')\n",
      "(2, 'puA234', 48, 'Morning', 'Middle')\n",
      "(3, 'vrg139', 39, 'Morning', 'High')\n",
      "(4, 'TxZ209', 50, 'Afternoon', 'Elementary')\n",
      "(5, 'Xpr474', 36, 'Evening', 'High')\n",
      "(6, 'Wpt601', 44, 'Morning', 'Elementary')\n",
      "(7, 'aKn096', 48, 'Afternoon', 'High')\n",
      "(8, 'mBE865', 35, 'Afternoon', 'Middle')\n",
      "(9, 'Xcf050', 47, 'Morning', 'Middle')\n",
      "(10, 'CUw638', 33, 'Morning', 'High')\n"
     ]
    },
    {
     "data": {
      "text/plain": [
       "True"
      ]
     },
     "execution_count": 25,
     "metadata": {},
     "output_type": "execute_result"
    }
   ],
   "source": [
    "# check if the table was created and populated correctly, print the first 10 rows\n",
    "cursor = cnx.cursor()\n",
    "cursor.execute('SELECT * FROM classes_dim LIMIT 10')\n",
    "for row in cursor:\n",
    "    print(row)\n",
    "cursor.close()"
   ]
  },
  {
   "cell_type": "code",
   "execution_count": 26,
   "metadata": {},
   "outputs": [
    {
     "name": "stdout",
     "output_type": "stream",
     "text": [
      "date_dim: 7670\n",
      "school_dim: 1000\n",
      "school_subject_dim: 10\n",
      "teacher_dim: 273386\n",
      "class_type_dim: 2\n",
      "classroom_dim: 13663\n",
      "classes_dim: 243731\n"
     ]
    },
    {
     "data": {
      "text/plain": [
       "True"
      ]
     },
     "execution_count": 26,
     "metadata": {},
     "output_type": "execute_result"
    }
   ],
   "source": [
    "# count the number of rows in each table of the escola database\n",
    "cursor = cnx.cursor()\n",
    "cursor.execute('SELECT COUNT(*) FROM date_dim')\n",
    "for row in cursor:\n",
    "    print('date_dim:', row[0])\n",
    "cursor.execute('SELECT COUNT(*) FROM school_dim')\n",
    "for row in cursor:\n",
    "    print('school_dim:', row[0])\n",
    "cursor.execute('SELECT COUNT(*) FROM school_subject_dim')\n",
    "for row in cursor:\n",
    "    print('school_subject_dim:', row[0])\n",
    "cursor.execute('SELECT COUNT(*) FROM teacher_dim')\n",
    "for row in cursor:\n",
    "    print('teacher_dim:', row[0])\n",
    "cursor.execute('SELECT COUNT(*) FROM class_type_dim')\n",
    "for row in cursor:\n",
    "    print('class_type_dim:', row[0])\n",
    "cursor.execute('SELECT COUNT(*) FROM classroom_dim')\n",
    "for row in cursor:\n",
    "    print('classroom_dim:', row[0])\n",
    "cursor.execute('SELECT COUNT(*) FROM classes_dim')\n",
    "for row in cursor:\n",
    "    print('classes_dim:', row[0])\n",
    "cursor.close()\n"
   ]
  },
  {
   "cell_type": "code",
   "execution_count": null,
   "metadata": {},
   "outputs": [],
   "source": []
  },
  {
   "cell_type": "code",
   "execution_count": null,
   "metadata": {},
   "outputs": [],
   "source": []
  },
  {
   "cell_type": "code",
   "execution_count": null,
   "metadata": {},
   "outputs": [],
   "source": []
  }
 ],
 "metadata": {
  "kernelspec": {
   "display_name": "Python 3.10.4 64-bit",
   "language": "python",
   "name": "python3"
  },
  "language_info": {
   "codemirror_mode": {
    "name": "ipython",
    "version": 3
   },
   "file_extension": ".py",
   "mimetype": "text/x-python",
   "name": "python",
   "nbconvert_exporter": "python",
   "pygments_lexer": "ipython3",
   "version": "3.10.4"
  },
  "orig_nbformat": 4,
  "vscode": {
   "interpreter": {
    "hash": "e7370f93d1d0cde622a1f8e1c04877d8463912d04d973331ad4851f04de6915a"
   }
  }
 },
 "nbformat": 4,
 "nbformat_minor": 2
}
