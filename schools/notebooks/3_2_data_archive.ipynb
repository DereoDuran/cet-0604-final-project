{
 "cells": [
  {
   "cell_type": "code",
   "execution_count": 1,
   "metadata": {},
   "outputs": [],
   "source": [
    "import pandas as pd\n",
    "import time\n",
    "from utils import MysqlConnector\n",
    "cnx = MysqlConnector()"
   ]
  },
  {
   "cell_type": "code",
   "execution_count": 2,
   "metadata": {},
   "outputs": [],
   "source": [
    "def time_fetch(cnx, query):\n",
    "    start = time.time()\n",
    "    result = cnx.fetch(query)\n",
    "    end = time.time()\n",
    "    return end - start, result\n"
   ]
  },
  {
   "cell_type": "code",
   "execution_count": 3,
   "metadata": {},
   "outputs": [
    {
     "name": "stdout",
     "output_type": "stream",
     "text": [
      "Elapsed time: 20.50 seconds\n",
      "Year 2000: 1112000 rows\n",
      "Year 2001: 1107552 rows\n",
      "Year 2002: 1120896 rows\n",
      "Year 2003: 1120896 rows\n",
      "Year 2004: 1116448 rows\n",
      "Year 2005: 1116448 rows\n",
      "Year 2006: 1107552 rows\n",
      "Year 2007: 1107552 rows\n",
      "Year 2008: 1125344 rows\n",
      "Year 2009: 1107552 rows\n",
      "Year 2010: 1112000 rows\n",
      "Year 2011: 1116448 rows\n",
      "Year 2012: 1112000 rows\n",
      "Year 2013: 1120896 rows\n",
      "Year 2014: 1120896 rows\n",
      "Year 2015: 1107552 rows\n",
      "Year 2016: 1116448 rows\n",
      "Year 2017: 1107552 rows\n",
      "Year 2018: 1107552 rows\n",
      "Year 2019: 1120896 rows\n",
      "Year 2020: 1112000 rows\n",
      "Year 2021: 1112000 rows\n",
      "Year 2022: 1116448 rows\n"
     ]
    }
   ],
   "source": [
    "query = \"\"\"\n",
    "SELECT\n",
    "    year,\n",
    "    COUNT(DISTINCT lesson_id) AS num_lessons\n",
    "FROM\n",
    "    lessons A\n",
    "JOIN dates B ON A.date_id = B.date_id \n",
    "GROUP BY\n",
    "    B.year\n",
    "ORDER BY\n",
    "    B.year\n",
    "\"\"\"\n",
    "\n",
    "elapsed_time, df = time_fetch(cnx,query)\n",
    "print(f'''Elapsed time: {elapsed_time:.2f} seconds''')\n",
    "for year, rows in df:\n",
    "    print(f'Year {year}: {rows} rows')"
   ]
  },
  {
   "cell_type": "code",
   "execution_count": 4,
   "metadata": {},
   "outputs": [],
   "source": [
    "query = \"\"\"\n",
    "CREATE TABLE IF NOT EXISTS lessons_archive AS\n",
    "SELECT * FROM lessons\n",
    "WHERE date_id IN (\n",
    "    SELECT date_id FROM dates\n",
    "    WHERE year < 2012\n",
    ");\n",
    "\"\"\"\n",
    "cnx.execute(query)"
   ]
  },
  {
   "cell_type": "code",
   "execution_count": null,
   "metadata": {},
   "outputs": [],
   "source": [
    "query = \"\"\"\n",
    "DELETE FROM lessons\n",
    "WHERE date_id IN (\n",
    "    SELECT date_id FROM dates\n",
    "    WHERE year < 2012\n",
    ");\n",
    "\"\"\"\n",
    "cnx.execute(query)"
   ]
  },
  {
   "cell_type": "code",
   "execution_count": null,
   "metadata": {},
   "outputs": [],
   "source": [
    "query = \"\"\"\n",
    "SELECT\n",
    "    year,\n",
    "    COUNT(DISTINCT lesson_id) AS num_lessons\n",
    "FROM\n",
    "    lessons A\n",
    "JOIN dates B ON A.date_id = B.date_id \n",
    "GROUP BY\n",
    "    B.year\n",
    "ORDER BY\n",
    "    B.year\n",
    "\"\"\"\n",
    "\n",
    "elapsed_time, df = time_fetch(cnx,query)\n",
    "print(f'''Elapsed time: {elapsed_time:.2f} seconds''')\n",
    "for year, rows in df:\n",
    "    print(f'Year {year}: {rows} rows')"
   ]
  },
  {
   "cell_type": "code",
   "execution_count": 3,
   "metadata": {},
   "outputs": [
    {
     "name": "stdout",
     "output_type": "stream",
     "text": [
      "Elapsed time: 39.93 seconds\n",
      "Year 2000: 1112000 rows\n",
      "Year 2001: 1107552 rows\n",
      "Year 2002: 1120896 rows\n",
      "Year 2003: 1120896 rows\n",
      "Year 2004: 1116448 rows\n",
      "Year 2005: 1116448 rows\n",
      "Year 2006: 1107552 rows\n",
      "Year 2007: 1107552 rows\n",
      "Year 2008: 1125344 rows\n",
      "Year 2009: 1107552 rows\n",
      "Year 2010: 1112000 rows\n",
      "Year 2011: 1116448 rows\n",
      "Year 2012: 1112000 rows\n",
      "Year 2013: 1120896 rows\n",
      "Year 2014: 1120896 rows\n",
      "Year 2015: 1107552 rows\n",
      "Year 2016: 1116448 rows\n",
      "Year 2017: 1107552 rows\n",
      "Year 2018: 1107552 rows\n",
      "Year 2019: 1120896 rows\n",
      "Year 2020: 1112000 rows\n",
      "Year 2021: 1112000 rows\n",
      "Year 2022: 1116448 rows\n"
     ]
    }
   ],
   "source": [
    "query = \"\"\"\n",
    "SELECT\n",
    "    year,\n",
    "    COUNT(DISTINCT lesson_id) AS num_lessons\n",
    "FROM\n",
    "    lessons A\n",
    "JOIN dates B ON A.date_id = B.date_id \n",
    "GROUP BY\n",
    "    B.year\n",
    "ORDER BY\n",
    "    B.year\n",
    "\"\"\"\n",
    "\n",
    "elapsed_time, df = time_fetch(cnx,query)\n",
    "print(f'''Elapsed time: {elapsed_time:.2f} seconds''')\n",
    "for year, rows in df:\n",
    "    print(f'Year {year}: {rows} rows')"
   ]
  },
  {
   "cell_type": "code",
   "execution_count": null,
   "metadata": {},
   "outputs": [],
   "source": []
  }
 ],
 "metadata": {
  "kernelspec": {
   "display_name": "Python 3.10.4 64-bit",
   "language": "python",
   "name": "python3"
  },
  "language_info": {
   "codemirror_mode": {
    "name": "ipython",
    "version": 3
   },
   "file_extension": ".py",
   "mimetype": "text/x-python",
   "name": "python",
   "nbconvert_exporter": "python",
   "pygments_lexer": "ipython3",
   "version": "3.10.4"
  },
  "orig_nbformat": 4,
  "vscode": {
   "interpreter": {
    "hash": "e7370f93d1d0cde622a1f8e1c04877d8463912d04d973331ad4851f04de6915a"
   }
  }
 },
 "nbformat": 4,
 "nbformat_minor": 2
}
