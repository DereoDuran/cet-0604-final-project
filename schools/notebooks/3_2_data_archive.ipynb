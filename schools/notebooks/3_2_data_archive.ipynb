{
 "cells": [
  {
   "cell_type": "code",
   "execution_count": 8,
   "metadata": {},
   "outputs": [],
   "source": [
    "import pandas as pd\n",
    "from utils import MysqlConnector, time_fetch\n",
    "cnx = MysqlConnector()"
   ]
  },
  {
   "cell_type": "code",
   "execution_count": 10,
   "metadata": {},
   "outputs": [
    {
     "name": "stdout",
     "output_type": "stream",
     "text": [
      "Elapsed time: 14.64 seconds\n",
      "Year 2000: 1112000 rows\n",
      "Year 2001: 1107552 rows\n",
      "Year 2002: 1120896 rows\n",
      "Year 2003: 1120896 rows\n",
      "Year 2004: 1116448 rows\n",
      "Year 2005: 1116448 rows\n",
      "Year 2006: 1107552 rows\n",
      "Year 2007: 1107552 rows\n",
      "Year 2008: 1125344 rows\n",
      "Year 2009: 1107552 rows\n",
      "Year 2010: 1112000 rows\n",
      "Year 2011: 1116448 rows\n",
      "Year 2012: 1112000 rows\n",
      "Year 2013: 1120896 rows\n",
      "Year 2014: 1120896 rows\n",
      "Year 2015: 1107552 rows\n",
      "Year 2016: 1116448 rows\n",
      "Year 2017: 1107552 rows\n",
      "Year 2018: 1107552 rows\n",
      "Year 2019: 1120896 rows\n",
      "Year 2020: 1112000 rows\n",
      "Year 2021: 1112000 rows\n",
      "Year 2022: 1116448 rows\n"
     ]
    }
   ],
   "source": [
    "query = \"\"\"\n",
    "SELECT\n",
    "    year,\n",
    "    COUNT(DISTINCT lesson_id) AS num_lessons\n",
    "FROM\n",
    "    lessons A\n",
    "JOIN dates B ON A.date_id = B.date_id \n",
    "GROUP BY\n",
    "    B.year\n",
    "ORDER BY\n",
    "    B.year\n",
    "\"\"\"\n",
    "\n",
    "elapsed_time, df = time_fetch(cnx,query)\n",
    "print(f'''Elapsed time: {elapsed_time:.2f} seconds''')\n",
    "for year, rows in df:\n",
    "    print(f'Year {year}: {rows} rows')"
   ]
  },
  {
   "cell_type": "code",
   "execution_count": 11,
   "metadata": {},
   "outputs": [],
   "source": [
    "query = \"\"\"\n",
    "CREATE TABLE IF NOT EXISTS lessons_archive AS\n",
    "SELECT * FROM lessons\n",
    "WHERE date_id < (\n",
    "    SELECT date_id FROM dates\n",
    "    WHERE date = '2012-01-01'\n",
    ");\n",
    "\"\"\"\n",
    "cnx.execute(query)"
   ]
  },
  {
   "cell_type": "code",
   "execution_count": 12,
   "metadata": {},
   "outputs": [],
   "source": [
    "query = \"\"\"\n",
    "DELETE FROM lessons\n",
    "WHERE date_id < (\n",
    "    SELECT date_id FROM dates\n",
    "    WHERE date = '2012-01-01'\n",
    ");\n",
    "\"\"\"\n",
    "cnx.execute(query)"
   ]
  },
  {
   "cell_type": "code",
   "execution_count": 13,
   "metadata": {},
   "outputs": [
    {
     "name": "stdout",
     "output_type": "stream",
     "text": [
      "Elapsed time: 12.21 seconds\n",
      "Year 2012: 1112000 rows\n",
      "Year 2013: 1120896 rows\n",
      "Year 2014: 1120896 rows\n",
      "Year 2015: 1107552 rows\n",
      "Year 2016: 1116448 rows\n",
      "Year 2017: 1107552 rows\n",
      "Year 2018: 1107552 rows\n",
      "Year 2019: 1120896 rows\n",
      "Year 2020: 1112000 rows\n",
      "Year 2021: 1112000 rows\n",
      "Year 2022: 1116448 rows\n"
     ]
    }
   ],
   "source": [
    "query = \"\"\"\n",
    "SELECT\n",
    "    year,\n",
    "    COUNT(DISTINCT lesson_id) AS num_lessons\n",
    "FROM\n",
    "    lessons A\n",
    "JOIN dates B ON A.date_id = B.date_id \n",
    "GROUP BY\n",
    "    B.year\n",
    "ORDER BY\n",
    "    B.year\n",
    "\"\"\"\n",
    "\n",
    "elapsed_time, df = time_fetch(cnx,query)\n",
    "print(f'''Elapsed time: {elapsed_time:.2f} seconds''')\n",
    "for year, rows in df:\n",
    "    print(f'Year {year}: {rows} rows')"
   ]
  },
  {
   "cell_type": "code",
   "execution_count": 14,
   "metadata": {},
   "outputs": [
    {
     "name": "stdout",
     "output_type": "stream",
     "text": [
      "Elapsed time: 16.40 seconds\n",
      "Year 2000: 1112000 rows\n",
      "Year 2001: 1107552 rows\n",
      "Year 2002: 1120896 rows\n",
      "Year 2003: 1120896 rows\n",
      "Year 2004: 1116448 rows\n",
      "Year 2005: 1116448 rows\n",
      "Year 2006: 1107552 rows\n",
      "Year 2007: 1107552 rows\n",
      "Year 2008: 1125344 rows\n",
      "Year 2009: 1107552 rows\n",
      "Year 2010: 1112000 rows\n",
      "Year 2011: 1116448 rows\n"
     ]
    }
   ],
   "source": [
    "query = \"\"\"\n",
    "SELECT\n",
    "    year,\n",
    "    COUNT(DISTINCT lesson_id) AS num_lessons\n",
    "FROM\n",
    "    lessons_archive A\n",
    "JOIN dates B ON A.date_id = B.date_id \n",
    "GROUP BY\n",
    "    B.year\n",
    "ORDER BY\n",
    "    B.year\n",
    "\"\"\"\n",
    "\n",
    "elapsed_time, df = time_fetch(cnx,query)\n",
    "print(f'''Elapsed time: {elapsed_time:.2f} seconds''')\n",
    "for year, rows in df:\n",
    "    print(f'Year {year}: {rows} rows')"
   ]
  }
 ],
 "metadata": {
  "kernelspec": {
   "display_name": "Python 3.9.14 64-bit",
   "language": "python",
   "name": "python3"
  },
  "language_info": {
   "codemirror_mode": {
    "name": "ipython",
    "version": 3
   },
   "file_extension": ".py",
   "mimetype": "text/x-python",
   "name": "python",
   "nbconvert_exporter": "python",
   "pygments_lexer": "ipython3",
   "version": "3.9.14"
  },
  "orig_nbformat": 4,
  "vscode": {
   "interpreter": {
    "hash": "397704579725e15f5c7cb49fe5f0341eb7531c82d19f2c29d197e8b64ab5776b"
   }
  }
 },
 "nbformat": 4,
 "nbformat_minor": 2
}
