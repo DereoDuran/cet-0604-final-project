{
 "cells": [
  {
   "cell_type": "code",
   "execution_count": 1,
   "metadata": {},
   "outputs": [],
   "source": [
    "import pandas as pd\n",
    "import random\n",
    "from utils import MysqlConnector, time_fetch\n",
    "from ipywidgets import widgets\n",
    "from IPython.display import display\n",
    "cnx = MysqlConnector()"
   ]
  },
  {
   "cell_type": "code",
   "execution_count": 2,
   "metadata": {},
   "outputs": [
    {
     "data": {
      "text/plain": [
       "[('lessons', 'class_id', 'class_id', 1),\n",
       " ('lessons', 'class_id_idx', 'class_id', 1),\n",
       " ('lessons', 'class_type_id', 'class_type_id', 1),\n",
       " ('lessons', 'class_type_id_idx', 'class_type_id', 1),\n",
       " ('lessons', 'classroom_id', 'classroom_id', 1),\n",
       " ('lessons', 'classroom_id_idx', 'classroom_id', 1),\n",
       " ('lessons', 'date_id', 'date_id', 1),\n",
       " ('lessons', 'date_id_idx', 'date_id', 1),\n",
       " ('lessons', 'PRIMARY', 'lesson_id', 0),\n",
       " ('lessons', 'school_id', 'school_id', 1),\n",
       " ('lessons', 'school_id_idx', 'school_id', 1),\n",
       " ('lessons', 'school_subject_id', 'school_subject_id', 1),\n",
       " ('lessons', 'school_subject_id_idx', 'school_subject_id', 1),\n",
       " ('lessons', 'teacher_id', 'teacher_id', 1),\n",
       " ('lessons', 'teacher_id_idx', 'teacher_id', 1)]"
      ]
     },
     "execution_count": 2,
     "metadata": {},
     "output_type": "execute_result"
    }
   ],
   "source": [
    "query = \"\"\"\n",
    "SELECT table_name, index_name, column_name, non_unique\n",
    "FROM information_schema.statistics\n",
    "WHERE table_schema = 'schools'\n",
    "AND table_name = 'lessons'\n",
    "ORDER BY table_name, index_name, seq_in_index;\n",
    "\"\"\"\n",
    "elapsed_time, df = time_fetch(cnx, query)\n",
    "df"
   ]
  }
 ],
 "metadata": {
  "kernelspec": {
   "display_name": "Python 3.9.14 64-bit",
   "language": "python",
   "name": "python3"
  },
  "language_info": {
   "codemirror_mode": {
    "name": "ipython",
    "version": 3
   },
   "file_extension": ".py",
   "mimetype": "text/x-python",
   "name": "python",
   "nbconvert_exporter": "python",
   "pygments_lexer": "ipython3",
   "version": "3.9.14"
  },
  "orig_nbformat": 4,
  "vscode": {
   "interpreter": {
    "hash": "397704579725e15f5c7cb49fe5f0341eb7531c82d19f2c29d197e8b64ab5776b"
   }
  }
 },
 "nbformat": 4,
 "nbformat_minor": 2
}
