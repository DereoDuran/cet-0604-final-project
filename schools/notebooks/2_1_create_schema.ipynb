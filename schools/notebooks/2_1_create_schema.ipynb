{
 "cells": [
  {
   "cell_type": "code",
   "execution_count": 14,
   "metadata": {},
   "outputs": [],
   "source": [
    "from utils import MysqlConnector\n",
    "\n",
    "conn = MysqlConnector()\n",
    "\n",
    "with open('../scripts/2_1_create_schema.sql', 'r') as f:\n",
    "    query = f.read()\n",
    "    \n",
    "for statement in query.split(';'):\n",
    "    conn.execute(statement)"
   ]
  },
  {
   "cell_type": "code",
   "execution_count": 15,
   "metadata": {},
   "outputs": [
    {
     "data": {
      "text/plain": [
       "[('class_types',),\n",
       " ('classes',),\n",
       " ('classrooms',),\n",
       " ('dates',),\n",
       " ('lessons',),\n",
       " ('school_subjects',),\n",
       " ('schools',),\n",
       " ('teachers',)]"
      ]
     },
     "execution_count": 15,
     "metadata": {},
     "output_type": "execute_result"
    }
   ],
   "source": [
    "conn.fetch('show tables')"
   ]
  }
 ],
 "metadata": {
  "kernelspec": {
   "display_name": "Python 3.10.4 64-bit",
   "language": "python",
   "name": "python3"
  },
  "language_info": {
   "codemirror_mode": {
    "name": "ipython",
    "version": 3
   },
   "file_extension": ".py",
   "mimetype": "text/x-python",
   "name": "python",
   "nbconvert_exporter": "python",
   "pygments_lexer": "ipython3",
   "version": "3.10.4"
  },
  "orig_nbformat": 4,
  "vscode": {
   "interpreter": {
    "hash": "e7370f93d1d0cde622a1f8e1c04877d8463912d04d973331ad4851f04de6915a"
   }
  }
 },
 "nbformat": 4,
 "nbformat_minor": 2
}
